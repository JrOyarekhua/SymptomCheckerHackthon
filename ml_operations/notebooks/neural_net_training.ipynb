{
 "cells": [
  {
   "cell_type": "code",
   "execution_count": 54,
   "metadata": {},
   "outputs": [],
   "source": [
    "import pandas as pd\n",
    "from sklearn.preprocessing import LabelEncoder\n",
    "from sklearn.model_selection import train_test_split\n",
    "from sklearn.linear_model import LogisticRegression\n",
    "from sklearn.metrics import precision_score, recall_score, log_loss, classification_report\n",
    "import joblib "
   ]
  },
  {
   "cell_type": "code",
   "execution_count": 53,
   "metadata": {},
   "outputs": [
    {
     "name": "stdout",
     "output_type": "stream",
     "text": [
      "Index(['abdominal_pain', 'abnormal_menstruation', 'acidity',\n",
      "       'acute_liver_failure', 'altered_sensorium', 'anxiety', 'back_pain',\n",
      "       'belly_pain', 'blackheads', 'bladder_discomfort',\n",
      "       ...\n",
      "       'watering_from_eyes', 'weakness_in_limbs', 'weakness_of_one_body_side',\n",
      "       'weight_gain', 'weight_loss', 'yellow_crust_ooze', 'yellow_urine',\n",
      "       'yellowing_of_eyes', 'yellowish_skin', 'disease'],\n",
      "      dtype='object', length=132)\n",
      "   abdominal_pain  abnormal_menstruation  acidity  acute_liver_failure  \\\n",
      "0               0                      0        0                    0   \n",
      "1               0                      0        0                    0   \n",
      "2               0                      0        0                    0   \n",
      "3               0                      0        0                    0   \n",
      "4               0                      0        0                    0   \n",
      "\n",
      "   altered_sensorium  anxiety  back_pain  belly_pain  blackheads  \\\n",
      "0                  0        0          0           0           0   \n",
      "1                  0        0          0           0           0   \n",
      "2                  0        0          0           0           0   \n",
      "3                  0        0          0           0           0   \n",
      "4                  0        0          0           0           0   \n",
      "\n",
      "   bladder_discomfort  ...  watering_from_eyes  weakness_in_limbs  \\\n",
      "0                   0  ...                   0                  0   \n",
      "1                   0  ...                   0                  0   \n",
      "2                   0  ...                   0                  0   \n",
      "3                   0  ...                   0                  0   \n",
      "4                   0  ...                   0                  0   \n",
      "\n",
      "   weakness_of_one_body_side  weight_gain  weight_loss  yellow_crust_ooze  \\\n",
      "0                          0            0            0                  0   \n",
      "1                          0            0            0                  0   \n",
      "2                          0            0            0                  0   \n",
      "3                          0            0            0                  0   \n",
      "4                          0            0            0                  0   \n",
      "\n",
      "   yellow_urine  yellowing_of_eyes  yellowish_skin           disease  \n",
      "0             0                  0               0  fungal_infection  \n",
      "1             0                  0               0  fungal_infection  \n",
      "2             0                  0               0  fungal_infection  \n",
      "3             0                  0               0  fungal_infection  \n",
      "4             0                  0               0  fungal_infection  \n",
      "\n",
      "[5 rows x 132 columns]\n"
     ]
    }
   ],
   "source": [
    "clean_data = pd.read_csv('/Users/jroyarekhua/SymptomCheckerHackthon/ml_operations/data/clean/enocded_symptoms.csv', index_col=0)\n",
    "clean_data.head(n=5)\n",
    "# drop case_id\n",
    "clean_data.drop(columns=['case_id'],inplace=True)\n",
    "print(clean_data.columns)\n",
    "print(clean_data.head(n=5))"
   ]
  },
  {
   "cell_type": "markdown",
   "metadata": {},
   "source": [
    "load data"
   ]
  },
  {
   "cell_type": "code",
   "execution_count": 52,
   "metadata": {},
   "outputs": [
    {
     "name": "stdout",
     "output_type": "stream",
     "text": [
      "Precision: 1.0000\n",
      "Recall: 1.0000\n",
      "Log Loss: 0.0242\n",
      "                                         precision    recall  f1-score   support\n",
      "\n",
      "(vertigo)_paroymsal__positional_vertigo       1.00      1.00      1.00        36\n",
      "                                   acne       1.00      1.00      1.00        36\n",
      "                                   aids       1.00      1.00      1.00        36\n",
      "                    alcoholic_hepatitis       1.00      1.00      1.00        36\n",
      "                                allergy       1.00      1.00      1.00        36\n",
      "                              arthritis       1.00      1.00      1.00        36\n",
      "                       bronchial_asthma       1.00      1.00      1.00        36\n",
      "                   cervical_spondylosis       1.00      1.00      1.00        36\n",
      "                            chicken_pox       1.00      1.00      1.00        36\n",
      "                    chronic_cholestasis       1.00      1.00      1.00        36\n",
      "                            common_cold       1.00      1.00      1.00        36\n",
      "                                 dengue       1.00      1.00      1.00        36\n",
      "                               diabetes       1.00      1.00      1.00        36\n",
      "           dimorphic_hemmorhoids(piles)       1.00      1.00      1.00        36\n",
      "                          drug_reaction       1.00      1.00      1.00        36\n",
      "                       fungal_infection       1.00      1.00      1.00        36\n",
      "                        gastroenteritis       1.00      1.00      1.00        36\n",
      "                                   gerd       1.00      1.00      1.00        36\n",
      "                           heart_attack       1.00      1.00      1.00        36\n",
      "                            hepatitis_a       1.00      1.00      1.00        36\n",
      "                            hepatitis_b       1.00      1.00      1.00        36\n",
      "                            hepatitis_c       1.00      1.00      1.00        36\n",
      "                            hepatitis_d       1.00      1.00      1.00        36\n",
      "                            hepatitis_e       1.00      1.00      1.00        36\n",
      "                           hypertension       1.00      1.00      1.00        36\n",
      "                        hyperthyroidism       1.00      1.00      1.00        36\n",
      "                           hypoglycemia       1.00      1.00      1.00        36\n",
      "                         hypothyroidism       1.00      1.00      1.00        36\n",
      "                               impetigo       1.00      1.00      1.00        36\n",
      "                               jaundice       1.00      1.00      1.00        36\n",
      "                                malaria       1.00      1.00      1.00        36\n",
      "                               migraine       1.00      1.00      1.00        36\n",
      "                        osteoarthristis       1.00      1.00      1.00        36\n",
      "           paralysis_(brain_hemorrhage)       1.00      1.00      1.00        36\n",
      "                    peptic_ulcer_diseae       1.00      1.00      1.00        36\n",
      "                              pneumonia       1.00      1.00      1.00        36\n",
      "                              psoriasis       1.00      1.00      1.00        36\n",
      "                           tuberculosis       1.00      1.00      1.00        36\n",
      "                                typhoid       1.00      1.00      1.00        36\n",
      "                urinary_tract_infection       1.00      1.00      1.00        36\n",
      "                         varicose_veins       1.00      1.00      1.00        36\n",
      "\n",
      "                               accuracy                           1.00      1476\n",
      "                              macro avg       1.00      1.00      1.00      1476\n",
      "                           weighted avg       1.00      1.00      1.00      1476\n",
      "\n"
     ]
    }
   ],
   "source": [
    "X,Y = clean_data.drop(columns=['disease']), clean_data['disease']\n",
    "le = LabelEncoder()\n",
    "\n",
    "Y_encoded = le.fit_transform(Y) # learn and endode data \n",
    "X_train, X_test, Y_train, Y_test = train_test_split(X,Y_encoded,test_size=.3,stratify=Y_encoded,random_state=42)\n",
    "\n",
    "# train the model on the test data \n",
    "log_regression = LogisticRegression(class_weight='balanced') # instantiate lrg model \n",
    "baseline_model = log_regression.fit(X_train,Y_train)\n",
    "Y_hat = baseline_model.predict(X_test)\n",
    "Y_prob = baseline_model.predict_proba(X_test)\n",
    "\n",
    "# evaluate on test set\n",
    "precision = precision_score(Y_test, Y_hat, average='weighted')\n",
    "recall = recall_score( Y_test,Y_hat, average='weighted')\n",
    "loss = log_loss(Y_test,Y_prob)\n",
    "report = classification_report(Y_test, Y_hat, target_names=le.classes_)\n",
    "\n",
    "print(f\"Precision: {precision:.4f}\")\n",
    "print(f\"Recall: {recall:.4f}\")\n",
    "print(f\"Log Loss: {loss:.4f}\")\n",
    "print(report)"
   ]
  },
  {
   "cell_type": "markdown",
   "metadata": {},
   "source": [
    "encode data and train and evaluate baseline model "
   ]
  },
  {
   "cell_type": "code",
   "execution_count": 57,
   "metadata": {},
   "outputs": [],
   "source": [
    "joblib.dump((baseline_model,le),'/Users/jroyarekhua/SymptomCheckerHackthon/ml_operations/models/baseline_lrg.pkl') \n",
    "clean_data.to_csv('/Users/jroyarekhua/SymptomCheckerHackthon/ml_operations/data/clean/encoded_data2.csv',index=False)\n",
    "\n"
   ]
  },
  {
   "cell_type": "markdown",
   "metadata": {},
   "source": [
    "save model and csv for later use "
   ]
  }
 ],
 "metadata": {
  "kernelspec": {
   "display_name": "myenv",
   "language": "python",
   "name": "python3"
  },
  "language_info": {
   "codemirror_mode": {
    "name": "ipython",
    "version": 3
   },
   "file_extension": ".py",
   "mimetype": "text/x-python",
   "name": "python",
   "nbconvert_exporter": "python",
   "pygments_lexer": "ipython3",
   "version": "3.11.12"
  }
 },
 "nbformat": 4,
 "nbformat_minor": 2
}
